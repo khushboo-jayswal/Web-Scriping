{
  "nbformat": 4,
  "nbformat_minor": 2,
  "metadata": {
    "colab": {
      "name": "Flipkart Web scriping.ipynb",
      "provenance": [],
      "toc_visible": true
    },
    "kernelspec": {
      "name": "python3",
      "display_name": "Python 3.9.4 64-bit"
    },
    "language_info": {
      "name": "python",
      "version": "3.9.4",
      "mimetype": "text/x-python",
      "codemirror_mode": {
        "name": "ipython",
        "version": 3
      },
      "pygments_lexer": "ipython3",
      "nbconvert_exporter": "python",
      "file_extension": ".py"
    },
    "interpreter": {
      "hash": "a043485bd46eb5d73de2290b5f593203af0340732fcd2e2fa448ffbe29d9718e"
    }
  },
  "cells": [
    {
      "cell_type": "code",
      "execution_count": 1,
      "source": [
        "from bs4 import BeautifulSoup\r\n",
        "import csv\r\n",
        "import requests\r\n",
        "import pandas as pd"
      ],
      "outputs": [],
      "metadata": {
        "id": "2XPsU2SBfo2-"
      }
    },
    {
      "cell_type": "code",
      "execution_count": 2,
      "source": [
        "discription = []\r\n",
        "memory = []\r\n",
        "display = []\r\n",
        "camera = []\r\n",
        "battery =[]\r\n",
        "prices = []"
      ],
      "outputs": [],
      "metadata": {
        "id": "_ZUlfwr1jvm-"
      }
    },
    {
      "cell_type": "code",
      "execution_count": 3,
      "source": [
        "pages = list(range(1,20))\r\n",
        "for page in pages:\r\n",
        "  response = requests.get(\"https://www.flipkart.com/search?q=mobile&otracker=search&otracker1=search&marketplace=FLIPKART&as-show=on&as=off&page={}\".format(page)).text\r\n",
        "  soup = BeautifulSoup(response,\"html.parser\")\r\n",
        "\r\n",
        "  desc = soup.find_all(\"div\",class_ = \"_4rR01T\")\r\n",
        "  for i in range(len(desc)):\r\n",
        "    discription.append(desc[i].text)\r\n",
        "  \r\n",
        "  commonclass = soup.find_all(\"li\",class_= \"rgWa7D\")\r\n",
        "  for i in range(len(commonclass)):\r\n",
        "    info = commonclass[i].text\r\n",
        "    if(\"RAM\" in info or \"ROM\" in info):\r\n",
        "      memory.append(info)\r\n",
        "    elif(\"Display\" in info):\r\n",
        "      display.append(info)\r\n",
        "    elif(\"Camera\" in info):\r\n",
        "      camera.append(info)\r\n",
        "    elif(\"Battery\" in info):\r\n",
        "      battery.append(info)\r\n",
        "\r\n",
        "  price = soup.find_all(\"div\",class_=\"_30jeq3 _1_WHN1\")\r\n",
        "  for i in range(len(price)):\r\n",
        "    prices.append(price[i].text)\r\n"
      ],
      "outputs": [],
      "metadata": {
        "id": "McQPNyq0klgx"
      }
    },
    {
      "cell_type": "code",
      "execution_count": 4,
      "source": [
        "print(len(discription))\r\n",
        "print(len(memory))\r\n",
        "print(len(display))\r\n",
        "print(len(camera))\r\n",
        "print(len(battery))\r\n",
        "print(len(prices))"
      ],
      "outputs": [
        {
          "output_type": "stream",
          "name": "stdout",
          "text": [
            "456\n",
            "455\n",
            "492\n",
            "435\n",
            "462\n",
            "456\n"
          ]
        }
      ],
      "metadata": {
        "colab": {
          "base_uri": "https://localhost:8080/"
        },
        "id": "CwYnrJTltunx",
        "outputId": "6672d7e3-45fa-4f96-fa33-fc1698c25c1c"
      }
    },
    {
      "cell_type": "code",
      "execution_count": 6,
      "source": [
        "df = {\"DESCRIPTION\":discription[:435],\"MEMORY\":memory[:435],\"DISPLAY\":display[:435],\"CAMERA\":camera[:435],\"BATTERY\":battery[:435],\"PRICE\":prices[:435]}\r\n",
        "dataset = pd.DataFrame(data = df)"
      ],
      "outputs": [],
      "metadata": {
        "id": "d4qNjDkkuF-_"
      }
    },
    {
      "cell_type": "code",
      "execution_count": 7,
      "source": [
        "dataset"
      ],
      "outputs": [
        {
          "output_type": "execute_result",
          "data": {
            "text/html": [
              "<div>\n",
              "<style scoped>\n",
              "    .dataframe tbody tr th:only-of-type {\n",
              "        vertical-align: middle;\n",
              "    }\n",
              "\n",
              "    .dataframe tbody tr th {\n",
              "        vertical-align: top;\n",
              "    }\n",
              "\n",
              "    .dataframe thead th {\n",
              "        text-align: right;\n",
              "    }\n",
              "</style>\n",
              "<table border=\"1\" class=\"dataframe\">\n",
              "  <thead>\n",
              "    <tr style=\"text-align: right;\">\n",
              "      <th></th>\n",
              "      <th>DESCRIPTION</th>\n",
              "      <th>MEMORY</th>\n",
              "      <th>DISPLAY</th>\n",
              "      <th>CAMERA</th>\n",
              "      <th>BATTERY</th>\n",
              "      <th>PRICE</th>\n",
              "    </tr>\n",
              "  </thead>\n",
              "  <tbody>\n",
              "    <tr>\n",
              "      <th>0</th>\n",
              "      <td>I Kall K400 (Black, 64 GB)</td>\n",
              "      <td>4 GB RAM | 64 GB ROM</td>\n",
              "      <td>15.24 cm (6 inch) Display</td>\n",
              "      <td>8MP Rear Camera</td>\n",
              "      <td>2800 mAh Battery</td>\n",
              "      <td>₹5,899</td>\n",
              "    </tr>\n",
              "    <tr>\n",
              "      <th>1</th>\n",
              "      <td>I Kall Z3 (Green, 32 GB)</td>\n",
              "      <td>4 GB RAM | 32 GB ROM</td>\n",
              "      <td>15.24 cm (6 inch) Display</td>\n",
              "      <td>8MP Rear Camera | 5MP Front Camera</td>\n",
              "      <td>4000 mAh Battery</td>\n",
              "      <td>₹5,899</td>\n",
              "    </tr>\n",
              "    <tr>\n",
              "      <th>2</th>\n",
              "      <td>realme C21Y (Cross Black, 64 GB)</td>\n",
              "      <td>4 GB RAM | 64 GB ROM | Expandable Upto 256 GB</td>\n",
              "      <td>16.51 cm (6.5 inch) HD+ Display</td>\n",
              "      <td>13MP + 2MP + 2MP | 5MP Front Camera</td>\n",
              "      <td>5000 mAh Battery</td>\n",
              "      <td>₹8,999</td>\n",
              "    </tr>\n",
              "    <tr>\n",
              "      <th>3</th>\n",
              "      <td>APPLE iPhone 12 (Blue, 128 GB)</td>\n",
              "      <td>128 GB ROM</td>\n",
              "      <td>15.49 cm (6.1 inch) Super Retina XDR Display</td>\n",
              "      <td>12MP + 12MP | 12MP Front Camera</td>\n",
              "      <td>5000 mAh Battery</td>\n",
              "      <td>₹56,999</td>\n",
              "    </tr>\n",
              "    <tr>\n",
              "      <th>4</th>\n",
              "      <td>realme C21Y (Cross Blue, 64 GB)</td>\n",
              "      <td>4 GB RAM | 64 GB ROM | Expandable Upto 256 GB</td>\n",
              "      <td>All Screen OLED Display</td>\n",
              "      <td>12MP TrueDepth Front Camera with Night Mode, 4...</td>\n",
              "      <td>4000 mAh Battery</td>\n",
              "      <td>₹8,999</td>\n",
              "    </tr>\n",
              "    <tr>\n",
              "      <th>...</th>\n",
              "      <td>...</td>\n",
              "      <td>...</td>\n",
              "      <td>...</td>\n",
              "      <td>...</td>\n",
              "      <td>...</td>\n",
              "      <td>...</td>\n",
              "    </tr>\n",
              "    <tr>\n",
              "      <th>430</th>\n",
              "      <td>SAMSUNG Galaxy A22 5G (Mint, 128 GB)</td>\n",
              "      <td>32 MB RAM | 64 MB ROM</td>\n",
              "      <td>15.24 cm (6 inch) Display</td>\n",
              "      <td>13MP + AI Lens Dual AI Camera | 8MP Front Camera</td>\n",
              "      <td>1000 mAh Lithium-ion Battery</td>\n",
              "      <td>₹20,996</td>\n",
              "    </tr>\n",
              "    <tr>\n",
              "      <th>431</th>\n",
              "      <td>I Kall K130 New</td>\n",
              "      <td>4 MB RAM | 4 MB ROM | Expandable Upto 32 GB</td>\n",
              "      <td>3.66 cm (1.44 inch) QVGA Display</td>\n",
              "      <td>0.3MP Rear Camera</td>\n",
              "      <td>1000 mAh Battery</td>\n",
              "      <td>₹669</td>\n",
              "    </tr>\n",
              "    <tr>\n",
              "      <th>432</th>\n",
              "      <td>Itel Power 410</td>\n",
              "      <td>8 GB RAM | 128 GB ROM</td>\n",
              "      <td>3.66 cm (1.44 inch) QVGA Display</td>\n",
              "      <td>12MP + 2MP | 8MP Front Camera</td>\n",
              "      <td>800 mAh Battery</td>\n",
              "      <td>₹1,249</td>\n",
              "    </tr>\n",
              "    <tr>\n",
              "      <th>433</th>\n",
              "      <td>POCO F3 GT (Predator Black, 128 GB)</td>\n",
              "      <td>32 MB RAM | 32 MB ROM | Expandable Upto 32 GB</td>\n",
              "      <td>6.1 cm (2.4 inch) Display</td>\n",
              "      <td>64MP + 12MP + 5MP + 5MP | 32MP Front Camera</td>\n",
              "      <td>4310 mAh Battery</td>\n",
              "      <td>₹28,999</td>\n",
              "    </tr>\n",
              "    <tr>\n",
              "      <th>434</th>\n",
              "      <td>Snexian R5</td>\n",
              "      <td>4 GB RAM | 64 GB ROM</td>\n",
              "      <td>15.9 cm (6.26 inch) Display</td>\n",
              "      <td>0.3MP Rear Camera</td>\n",
              "      <td>3300 mAh Lithium-ion Battery</td>\n",
              "      <td>₹925</td>\n",
              "    </tr>\n",
              "  </tbody>\n",
              "</table>\n",
              "<p>435 rows × 6 columns</p>\n",
              "</div>"
            ],
            "text/plain": [
              "                              DESCRIPTION  \\\n",
              "0              I Kall K400 (Black, 64 GB)   \n",
              "1                I Kall Z3 (Green, 32 GB)   \n",
              "2        realme C21Y (Cross Black, 64 GB)   \n",
              "3          APPLE iPhone 12 (Blue, 128 GB)   \n",
              "4         realme C21Y (Cross Blue, 64 GB)   \n",
              "..                                    ...   \n",
              "430  SAMSUNG Galaxy A22 5G (Mint, 128 GB)   \n",
              "431                       I Kall K130 New   \n",
              "432                        Itel Power 410   \n",
              "433   POCO F3 GT (Predator Black, 128 GB)   \n",
              "434                            Snexian R5   \n",
              "\n",
              "                                            MEMORY  \\\n",
              "0                             4 GB RAM | 64 GB ROM   \n",
              "1                             4 GB RAM | 32 GB ROM   \n",
              "2    4 GB RAM | 64 GB ROM | Expandable Upto 256 GB   \n",
              "3                                       128 GB ROM   \n",
              "4    4 GB RAM | 64 GB ROM | Expandable Upto 256 GB   \n",
              "..                                             ...   \n",
              "430                          32 MB RAM | 64 MB ROM   \n",
              "431    4 MB RAM | 4 MB ROM | Expandable Upto 32 GB   \n",
              "432                          8 GB RAM | 128 GB ROM   \n",
              "433  32 MB RAM | 32 MB ROM | Expandable Upto 32 GB   \n",
              "434                           4 GB RAM | 64 GB ROM   \n",
              "\n",
              "                                          DISPLAY  \\\n",
              "0                       15.24 cm (6 inch) Display   \n",
              "1                       15.24 cm (6 inch) Display   \n",
              "2                 16.51 cm (6.5 inch) HD+ Display   \n",
              "3    15.49 cm (6.1 inch) Super Retina XDR Display   \n",
              "4                         All Screen OLED Display   \n",
              "..                                            ...   \n",
              "430                     15.24 cm (6 inch) Display   \n",
              "431              3.66 cm (1.44 inch) QVGA Display   \n",
              "432              3.66 cm (1.44 inch) QVGA Display   \n",
              "433                     6.1 cm (2.4 inch) Display   \n",
              "434                   15.9 cm (6.26 inch) Display   \n",
              "\n",
              "                                                CAMERA  \\\n",
              "0                                      8MP Rear Camera   \n",
              "1                   8MP Rear Camera | 5MP Front Camera   \n",
              "2                  13MP + 2MP + 2MP | 5MP Front Camera   \n",
              "3                      12MP + 12MP | 12MP Front Camera   \n",
              "4    12MP TrueDepth Front Camera with Night Mode, 4...   \n",
              "..                                                 ...   \n",
              "430   13MP + AI Lens Dual AI Camera | 8MP Front Camera   \n",
              "431                                  0.3MP Rear Camera   \n",
              "432                      12MP + 2MP | 8MP Front Camera   \n",
              "433        64MP + 12MP + 5MP + 5MP | 32MP Front Camera   \n",
              "434                                  0.3MP Rear Camera   \n",
              "\n",
              "                          BATTERY    PRICE  \n",
              "0                2800 mAh Battery   ₹5,899  \n",
              "1                4000 mAh Battery   ₹5,899  \n",
              "2                5000 mAh Battery   ₹8,999  \n",
              "3                5000 mAh Battery  ₹56,999  \n",
              "4                4000 mAh Battery   ₹8,999  \n",
              "..                            ...      ...  \n",
              "430  1000 mAh Lithium-ion Battery  ₹20,996  \n",
              "431              1000 mAh Battery     ₹669  \n",
              "432               800 mAh Battery   ₹1,249  \n",
              "433              4310 mAh Battery  ₹28,999  \n",
              "434  3300 mAh Lithium-ion Battery     ₹925  \n",
              "\n",
              "[435 rows x 6 columns]"
            ]
          },
          "metadata": {},
          "execution_count": 7
        }
      ],
      "metadata": {
        "colab": {
          "base_uri": "https://localhost:8080/",
          "height": 594
        },
        "id": "aa6qP0V3v7ig",
        "outputId": "037ddf77-dc02-4cf9-a077-8feb91470ea2"
      }
    },
    {
      "cell_type": "code",
      "execution_count": 8,
      "source": [
        "dataset.to_csv(\"mobile_dataset.csv\")"
      ],
      "outputs": [],
      "metadata": {
        "id": "EVROEYQmwDaw"
      }
    }
  ]
}